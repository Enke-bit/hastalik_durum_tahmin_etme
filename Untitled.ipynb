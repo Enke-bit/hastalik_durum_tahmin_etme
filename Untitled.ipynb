{
 "cells": [
  {
   "cell_type": "code",
   "execution_count": 3,
   "id": "5ab9e2e4",
   "metadata": {},
   "outputs": [
    {
     "name": "stdout",
     "output_type": "stream",
     "text": [
      "Accuracy: 0.1725225225225225\n",
      "\n",
      "Classification Report:\n",
      "              precision    recall  f1-score   support\n",
      "\n",
      "   Arthritis       0.17      0.14      0.15      1915\n",
      "      Asthma       0.17      0.18      0.17      1847\n",
      "      Cancer       0.18      0.17      0.17      1871\n",
      "    Diabetes       0.17      0.18      0.17      1822\n",
      "Hypertension       0.17      0.18      0.17      1788\n",
      "     Obesity       0.18      0.19      0.19      1857\n",
      "\n",
      "    accuracy                           0.17     11100\n",
      "   macro avg       0.17      0.17      0.17     11100\n",
      "weighted avg       0.17      0.17      0.17     11100\n",
      "\n"
     ]
    }
   ],
   "source": [
    "import pandas as pd\n",
    "import numpy as np\n",
    "from sklearn.model_selection import train_test_split\n",
    "from sklearn.ensemble import RandomForestClassifier\n",
    "from sklearn.metrics import classification_report, accuracy_score\n",
    "from sklearn.preprocessing import LabelEncoder\n",
    "\n",
    "# Veriyi yükleme\n",
    "file_path = r'C:\\Users\\realb\\Desktop\\hastalık durum h-tahmini yapan model\\healthcare_dataset.csv'\n",
    "data = pd.read_csv(file_path)\n",
    "\n",
    "# Gereksiz sütunları kaldırma\n",
    "data = data[['Age', 'Gender', 'Blood Type', 'Medical Condition']]\n",
    "\n",
    "# Kategorik verileri sayısal değerlere dönüştürme\n",
    "label_encoder = LabelEncoder()\n",
    "data['Gender'] = label_encoder.fit_transform(data['Gender'])\n",
    "data['Blood Type'] = label_encoder.fit_transform(data['Blood Type'])\n",
    "data['Medical Condition'] = label_encoder.fit_transform(data['Medical Condition'])\n",
    "\n",
    "# Özellikler ve hedef değişkeni ayırma\n",
    "X = data[['Age', 'Gender', 'Blood Type']]\n",
    "y = data['Medical Condition']\n",
    "\n",
    "# Veriyi eğitim ve test setlerine bölme\n",
    "X_train, X_test, y_train, y_test = train_test_split(X, y, test_size=0.2, random_state=42)\n",
    "\n",
    "# Random Forest modelini eğitme\n",
    "rf_model = RandomForestClassifier(n_estimators=100, random_state=42)\n",
    "rf_model.fit(X_train, y_train)\n",
    "\n",
    "# Tahmin yapma\n",
    "y_pred = rf_model.predict(X_test)\n",
    "\n",
    "# Modelin performansını değerlendirme\n",
    "accuracy = accuracy_score(y_test, y_pred)\n",
    "report = classification_report(y_test, y_pred, target_names=label_encoder.classes_)\n",
    "\n",
    "print(\"Accuracy:\", accuracy)\n",
    "print(\"\\nClassification Report:\")\n",
    "print(report)\n",
    "\n"
   ]
  }
 ],
 "metadata": {
  "kernelspec": {
   "display_name": "Python 3 (ipykernel)",
   "language": "python",
   "name": "python3"
  },
  "language_info": {
   "codemirror_mode": {
    "name": "ipython",
    "version": 3
   },
   "file_extension": ".py",
   "mimetype": "text/x-python",
   "name": "python",
   "nbconvert_exporter": "python",
   "pygments_lexer": "ipython3",
   "version": "3.11.5"
  }
 },
 "nbformat": 4,
 "nbformat_minor": 5
}
